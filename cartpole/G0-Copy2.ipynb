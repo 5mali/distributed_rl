{
 "cells": [
  {
   "cell_type": "code",
   "execution_count": 1,
   "metadata": {},
   "outputs": [],
   "source": [
    "%matplotlib inline\n",
    "import torch\n",
    "import torch.nn as nn\n",
    "import torch.nn.functional as F\n",
    "import numpy as np\n",
    "import gym\n",
    "import os\n",
    "from datetime import datetime\n",
    "import random\n",
    "import string\n",
    "import multiprocessing as mp\n",
    "import itertools"
   ]
  },
  {
   "cell_type": "code",
   "execution_count": 2,
   "metadata": {},
   "outputs": [],
   "source": [
    "import matplotlib.pyplot as plt\n",
    "import timeit\n",
    "%load_ext memory_profiler\n"
   ]
  },
  {
   "cell_type": "code",
   "execution_count": 3,
   "metadata": {},
   "outputs": [],
   "source": [
    "np.set_printoptions(formatter={'float': '{: 0.3f}'.format})"
   ]
  },
  {
   "cell_type": "code",
   "execution_count": 4,
   "metadata": {},
   "outputs": [],
   "source": [
    "REWARD = 100"
   ]
  },
  {
   "cell_type": "code",
   "execution_count": 5,
   "metadata": {},
   "outputs": [],
   "source": [
    "seed = 9086\n",
    "random.seed(seed)\n",
    "torch.manual_seed(seed)\n",
    "np.random.seed(seed)\n",
    "os.environ['PYTHONHASHSEED'] = str(seed)\n",
    "\n",
    "env = gym.make('CartPole-v0')\n",
    "XTRA_FEAT   = 0 #masscart, masspole, length\n",
    "N_ACTIONS   = env.action_space.n\n",
    "N_STATES    = env.observation_space.shape[0]  +  XTRA_FEAT \n",
    "ENV_A_SHAPE = 0 if isinstance(env.action_space.sample(), int) else env.action_space.sample().shape     # to confirm the shape"
   ]
  },
  {
   "cell_type": "code",
   "execution_count": 6,
   "metadata": {},
   "outputs": [
    {
     "name": "stdout",
     "output_type": "stream",
     "text": [
      "ID:  F7UPK8AX_13_58_41\n",
      "NN-MODEL FILENAME:  ./models/F7UPK8AX_13_58_41_NN.pt\n"
     ]
    }
   ],
   "source": [
    "RNDM_STRING = ''.join(random.choices(string.ascii_uppercase + string.digits, k=8)) + datetime.now().strftime(\"_%H_%M_%S\")\n",
    "print(\"ID: \",RNDM_STRING)\n",
    "MODEL_FILENAME = './models/'+ RNDM_STRING + \"_NN\" + \".pt\"\n",
    "print(\"NN-MODEL FILENAME: \", MODEL_FILENAME)"
   ]
  },
  {
   "cell_type": "code",
   "execution_count": 7,
   "metadata": {},
   "outputs": [],
   "source": [
    "def ndim_grid(start,stop, granularity):\n",
    "    # Set number of dimensions\n",
    "    ndims = len(start)\n",
    "\n",
    "    # List of ranges across all dimensions\n",
    "    L = [np.linspace(start[i],stop[i],granularity[i]) for i in range(ndims)]\n",
    "\n",
    "    # Finally use meshgrid to form all combinations corresponding to all \n",
    "    # dimensions and stack them as M x ndims array\n",
    "    return np.hstack((np.meshgrid(*L))).swapaxes(0,1).reshape(ndims,-1).T"
   ]
  },
  {
   "cell_type": "code",
   "execution_count": 8,
   "metadata": {},
   "outputs": [],
   "source": [
    "def discretize(value, borders):\n",
    "    c_pos_val, c_vel_val, p_ang_val, p_vel_val   = value\n",
    "    c_pos_s  , c_vel_s  ,p_ang_s   , p_vel_s     = borders\n",
    "    \n",
    "    indx = np.empty_like(value).astype(np.intp)\n",
    "    \n",
    "    for i in range(value.shape[0]):\n",
    "        if value[i] > borders[i].max():\n",
    "            indx[i] = borders[i].argmax().astype(np.intp)\n",
    "        else:\n",
    "            indx[i] = np.where(borders[i] >= value[i])[0][0].astype(np.intp)\n",
    "    return indx\n",
    "\n"
   ]
  },
  {
   "cell_type": "code",
   "execution_count": 9,
   "metadata": {},
   "outputs": [
    {
     "name": "stdout",
     "output_type": "stream",
     "text": [
      "Number of NODES:  10\n",
      "Number of EPISODES per NODE 100\n"
     ]
    }
   ],
   "source": [
    "T_LR           = 1e-2\n",
    "T_GAMMA        = 0.99\n",
    "T_EPSILON      = 0.98\n",
    "\n",
    "NO_OF_NODES    = 10\n",
    "NO_OF_EPISODES = 100\n",
    "TIMESTEP_LIMIT = 200\n",
    "\n",
    "print(\"Number of NODES: \", NO_OF_NODES)\n",
    "print(\"Number of EPISODES per NODE\", NO_OF_EPISODES)"
   ]
  },
  {
   "cell_type": "code",
   "execution_count": 10,
   "metadata": {},
   "outputs": [],
   "source": [
    "# Hyper Parameters\n",
    "HIDDEN_LAYER        = 50\n",
    "BATCH_SIZE          = 32\n",
    "NN_LR               = 1e-3  # learning rate\n",
    "NN_GAMMA            = 0.9   # reward discount\n",
    "TARGET_REPLACE_ITER = 500   # target update frequency\n",
    "MIN_MEMORY_CAP      = 200000"
   ]
  },
  {
   "cell_type": "code",
   "execution_count": 11,
   "metadata": {},
   "outputs": [
    {
     "name": "stdout",
     "output_type": "stream",
     "text": [
      "Number of ITERATIONS:  50\n"
     ]
    }
   ],
   "source": [
    "MAX_NO_OF_ITERATIONS = 50\n",
    "MAX_NN_ITERATIONS    = 50000\n",
    "print(\"Number of ITERATIONS: \",MAX_NO_OF_ITERATIONS)"
   ]
  },
  {
   "cell_type": "code",
   "execution_count": 12,
   "metadata": {},
   "outputs": [],
   "source": [
    "# class Net(nn.Module):\n",
    "#     def __init__(self, ):\n",
    "#         super(Net, self).__init__()\n",
    "#         self.fc1 = nn.Linear(N_STATES, 50)\n",
    "#         nn.init.kaiming_uniform_(self.fc1.weight)   # initialization\n",
    "#         self.out = nn.Linear(50, N_ACTIONS)\n",
    "#         nn.init.xavier_uniform_(self.out.weight)   # initialization\n",
    "\n",
    "#     def forward(self, x):\n",
    "#         x = self.fc1(x)\n",
    "#         x = F.relu(x)\n",
    "#         actions_value = self.out(x)\n",
    "#         return actions_value\n",
    "\n",
    "class Net(nn.Module):\n",
    "    def __init__(self):\n",
    "        super(Net, self).__init__()\n",
    "\n",
    "        self.fc1 = nn.Linear(N_STATES, HIDDEN_LAYER)\n",
    "        nn.init.kaiming_uniform_(self.fc1.weight)\n",
    "\n",
    "        self.adv = nn.Linear(HIDDEN_LAYER, N_ACTIONS)\n",
    "        nn.init.xavier_uniform_(self.adv.weight) \n",
    "    \n",
    "        self.val = nn.Linear(HIDDEN_LAYER, 1)\n",
    "        nn.init.xavier_uniform_(self.val.weight)\n",
    "        \n",
    "    def forward(self, x):\n",
    "        x = self.fc1(x)\n",
    "        x = F.relu(x)\n",
    "\n",
    "        adv = self.adv(x)\n",
    "        val = self.val(x)\n",
    "        \n",
    "        return val + adv - adv.mean()\n",
    "    \n",
    "class D3QN(object):\n",
    "    def __init__(self):\n",
    "        self.eval_net, self.target_net = Net(), Net()\n",
    "\n",
    "        self.learn_step_counter  = 0 # for target updating\n",
    "        \n",
    "        self.memory_counter      = 0\n",
    "        self.memory              = np.zeros((int(MIN_MEMORY_CAP), N_STATES * 2 + 2)) # initialize memory\n",
    "        \n",
    "#         self.good_memory_counter = 0 # for storing non-terminal memories\n",
    "#         self.good_memory         = np.zeros((MIN_MEMORY_CAP ,N_STATES*2+2))#np.zeros((int(MEMORY_CAPACITY/2), N_STATES * 2 + 2)) # initialize memory\n",
    "        \n",
    "#         self.bad_memory_counter  = 0 # for storing terminal memories\n",
    "#         self.bad_memory          = np.zeros((MIN_MEMORY_CAP , N_STATES*2+2))#np.zeros((int(MEMORY_CAPACITY/2), N_STATES * 2 + 2)) # initialize memory\n",
    "        self.running_loss        = 0\n",
    "        self.optimizer           = torch.optim.Adam(self.eval_net.parameters(), lr=NN_LR)\n",
    "        self.loss_func           = nn.MSELoss()\n",
    "\n",
    "    def choose_action(self, x):\n",
    "        x = torch.unsqueeze(torch.FloatTensor(x), 0)\n",
    "        # input only one sample\n",
    "        if np.random.uniform() < EPSILON:   # greedy\n",
    "            actions_value = self.eval_net.forward(x)\n",
    "            action = torch.max(actions_value, 1)[1].data.numpy()\n",
    "            action = action[0] if ENV_A_SHAPE == 0 else action.reshape(ENV_A_SHAPE)  # return the argmax index\n",
    "        else:   # random\n",
    "            action = np.random.randint(0, N_ACTIONS)\n",
    "            action = action if ENV_A_SHAPE == 0 else action.reshape(ENV_A_SHAPE)\n",
    "        return action\n",
    "    \n",
    "    def choose_greedy_action(self, x):\n",
    "        x = torch.unsqueeze(torch.FloatTensor(x), 0)\n",
    "        # input only one sample\n",
    "        actions_value = self.eval_net.forward(x)\n",
    "        action = torch.max(actions_value, 1)[1].data.numpy()\n",
    "        action = action[0] if ENV_A_SHAPE == 0 else action.reshape(ENV_A_SHAPE)  # return the argmax index\n",
    "        return action\n",
    "    \n",
    "    def get_greedy_action(self, x):\n",
    "        x = torch.unsqueeze(torch.FloatTensor(x), 0)\n",
    "        # input only one sample\n",
    "        actions = self.eval_net.forward(x).view(-1,N_ACTIONS).max(1)[1].data.numpy().astype(np.intp)\n",
    "#         actions_value \n",
    "#         action = torch.max(actions_value, 1)[1].data.numpy()\n",
    "#         action = action[0] if ENV_A_SHAPE == 0 else action.reshape(ENV_A_SHAPE)  # return the argmax index\n",
    "        return actions\n",
    "    \n",
    "    def get_qvals(self,x):\n",
    "        x = torch.unsqueeze(torch.FloatTensor(x), 0)\n",
    "        actions_value = self.eval_net.forward(x)\n",
    "        actions_value = actions_value.data.numpy().astype(np.float16)\n",
    "        return actions_value\n",
    "\n",
    "    def learn(self):\n",
    "        # target parameter update\n",
    "        if self.learn_step_counter % TARGET_REPLACE_ITER == 0:\n",
    "            self.target_net.load_state_dict(self.eval_net.state_dict())\n",
    "        self.learn_step_counter += 1\n",
    "        \n",
    "        sample_index_limit = min(MIN_MEMORY_CAP, self.memory_counter)\n",
    "        sample_index = np.random.choice(int(sample_index_limit),int(BATCH_SIZE))\n",
    "        b_memory = self.memory[sample_index,:]\n",
    "#         # sample batch transitions\n",
    "#         good_sample_index_limit = min(MIN_MEMORY_CAP, self.good_memory_counter)\n",
    "#         bad_sample_index_limit = min(MIN_MEMORY_CAP, self.bad_memory_counter)\n",
    "\n",
    "#         good_sample_index = np.random.choice(int(good_sample_index_limit), int(BATCH_SIZE-int(BATCH_SIZE*TERMINAL_BIAS)))\n",
    "#         bad_sample_index  = np.random.choice(int(bad_sample_index_limit),  int(BATCH_SIZE*TERMINAL_BIAS))\n",
    "\n",
    "#         b_good_memory = self.good_memory[good_sample_index, :]\n",
    "#         b_bad_memory  = self.bad_memory[bad_sample_index, :]\n",
    "#         b_memory      = np.vstack((b_good_memory,b_bad_memory))\n",
    "        \n",
    "        b_s  = torch.FloatTensor(b_memory[:, :N_STATES])\n",
    "        b_a  = torch.LongTensor( b_memory[:, N_STATES:N_STATES+1].astype(int))\n",
    "        b_r  = torch.FloatTensor(b_memory[:, N_STATES+1:N_STATES+2])\n",
    "        b_s_ = torch.FloatTensor(b_memory[:, -N_STATES:])\n",
    "\n",
    "        # q_eval w.r.t the action in experience\n",
    "        q_eval   = self.eval_net(b_s).gather(1, b_a)  # shape (batch, 1)\n",
    "        a_eval   = self.eval_net(b_s).max(1)[1].view(BATCH_SIZE, 1) #best action according to eval_net\n",
    "        q_next   = self.target_net(b_s_).detach()     # detach from graph, don't backpropagate\n",
    "        q_target = b_r + NN_GAMMA * q_next.gather(1, a_eval)   # shape (batch, 1)\n",
    "        loss     = self.loss_func(q_eval, q_target)\n",
    "\n",
    "        self.optimizer.zero_grad()\n",
    "        loss.backward()\n",
    "        self.optimizer.step()\n",
    "        \n",
    "        self.running_loss += loss.mean().item()\n",
    "        if self.learn_step_counter % TARGET_REPLACE_ITER == 0:\n",
    "            print('LOSS : %.3f' %(self.running_loss / TARGET_REPLACE_ITER), end=\"\\t\")\n",
    "            self.running_loss = 0.0"
   ]
  },
  {
   "cell_type": "code",
   "execution_count": 13,
   "metadata": {},
   "outputs": [],
   "source": [
    "def clamp(MIN_VAL, VAL, MAX_VAL):\n",
    "    return max(MIN_VAL, min(VAL, MAX_VAL))"
   ]
  },
  {
   "cell_type": "code",
   "execution_count": 14,
   "metadata": {},
   "outputs": [],
   "source": [
    "# ABSOLUTE LIMITS ON STATE VALUES\n",
    "C_POS_ABS_MAX =  2.6\n",
    "C_POS_ABS_MIN = -2.6\n",
    "\n",
    "C_VEL_ABS_MAX =  5\n",
    "C_VEL_ABS_MIN = -5\n",
    "\n",
    "P_ANG_ABS_MAX =  0.25\n",
    "P_ANG_ABS_MIN = -0.25\n",
    "\n",
    "P_VEL_ABS_MAX =  6\n",
    "P_VEL_ABS_MIN = -6"
   ]
  },
  {
   "cell_type": "code",
   "execution_count": 15,
   "metadata": {},
   "outputs": [
    {
     "name": "stdout",
     "output_type": "stream",
     "text": [
      "HI_GRAIN =  40\n"
     ]
    }
   ],
   "source": [
    "# SET GRANULARITY\n",
    "HI_GRAIN = 40\n",
    "print(\"HI_GRAIN = \", HI_GRAIN)"
   ]
  },
  {
   "cell_type": "code",
   "execution_count": 16,
   "metadata": {},
   "outputs": [],
   "source": [
    "def mp_node_run(node_id, boundary, iteration, node_q_table):\n",
    "\n",
    "    # SET SEED\n",
    "    ###############################################\n",
    "    my_seed = seed + node_id + iteration\n",
    "    random.seed(my_seed)\n",
    "    torch.manual_seed(my_seed)\n",
    "    np.random.seed(my_seed)\n",
    "    os.environ['PYTHONHASHSEED'] = str(my_seed)\n",
    "    my_env = env\n",
    "    my_env.seed(my_seed)\n",
    "    ###############################################\n",
    "\n",
    "\n",
    "    # CREATE STATE TABLE BORDERS\n",
    "    ###############################################\n",
    "    c_pos_s  = np.linspace(C_POS_ABS_MIN,  C_POS_ABS_MAX,  HI_GRAIN)\n",
    "    c_vel_s  = np.linspace(C_VEL_ABS_MIN,  C_VEL_ABS_MAX,  HI_GRAIN)\n",
    "    p_ang_s  = np.linspace(P_ANG_ABS_MIN,  P_ANG_ABS_MAX,  HI_GRAIN)\n",
    "    p_vel_s  = np.linspace(P_VEL_ABS_MIN,  P_VEL_ABS_MAX,  HI_GRAIN)\n",
    "\n",
    "    borders = [c_pos_s, c_vel_s, p_ang_s, p_vel_s]\n",
    "    ###############################################\n",
    "    \n",
    "    my_Q_TABLE = node_q_table\n",
    "\n",
    "    time_rec                = np.zeros(NO_OF_EPISODES)\n",
    "    level_up_flag           = False\n",
    "    PERFECT_RUN_COUNTER     = 10\n",
    "    PERFECT_RUNS_HIGH_SCORE = 10\n",
    "    level_up_metric         = 195\n",
    "\n",
    "    exp_rec      = np.empty(N_STATES * 2 + 2)\n",
    "    \n",
    "#     if iteration < 3:\n",
    "    my_EPSILON   = np.clip(((3%5 + 1)*0.1 + (iteration)*0.2) ,0.4,0.98)+ np.random.uniform(-0.01,0.01)\n",
    "#     print(node_id, my_EPSILON)\n",
    "#     else:\n",
    "#         my_EPSILON   = T_EPSILON + np.random.uniform(-0.01,0.01)\n",
    "    \n",
    "    while True:\n",
    "        i_episode = 0\n",
    "        \n",
    "        while i_episode < NO_OF_EPISODES:\n",
    "            ep_exp_rec = np.empty(N_STATES * 2 + 2)\n",
    "            time_steps = 0\n",
    "            \n",
    "            s = my_env.reset()\n",
    "            \n",
    "            while True:\n",
    "                time_steps += 1\n",
    "                \n",
    "                #get state\n",
    "                this_state = tuple(discretize(s, borders))\n",
    "                \n",
    "                # choose action\n",
    "                if np.random.uniform() > my_EPSILON:   # greedy\n",
    "                    a = np.random.randint(0, N_ACTIONS)\n",
    "                else:\n",
    "                    a = my_Q_TABLE[this_state]\n",
    "\n",
    "                 # take action\n",
    "                s_, r, done, info = my_env.step(a)\n",
    "\n",
    "                if done:\n",
    "                    r = -REWARD\n",
    "                    if time_steps >= TIMESTEP_LIMIT:\n",
    "                        r = REWARD\n",
    "                \n",
    "                #store experience\n",
    "                experience = np.hstack((s,a,r,s_))\n",
    "                exp_rec = np.vstack((exp_rec, experience))\n",
    "\n",
    "                #discretize next_state\n",
    "                next_state = tuple(discretize(s_, borders))\n",
    "                \n",
    "                if done or time_steps >= TIMESTEP_LIMIT:\n",
    "                    time_rec[i_episode] = time_steps\n",
    "                    break\n",
    "                s = s_\n",
    "\n",
    "            i_episode += 1\n",
    "        if i_episode >= NO_OF_EPISODES:\n",
    "            i_episode = 0\n",
    "            break\n",
    "\n",
    "    exp_rec = np.delete(exp_rec, 0, 0)\n",
    "#         message = \"NODE#\"+str(node_id) +\" MAIN Q:\"+ str(new_Q_TABLE.mean()) +\"\\t\" + \"NODE Q:\" + str(my_Q_TABLE.mean())\n",
    "#         print(message)\n",
    "    \n",
    "    # GET NEW STATE BOUNDARIES: +/- 25% of experienced state\n",
    "    [C_POS_MAX, C_VEL_MAX, P_ANG_MAX, P_VEL_MAX] = [exp_rec[:,i].max() for i in range(N_STATES)]\n",
    "    [C_POS_MIN, C_VEL_MIN, P_ANG_MIN, P_VEL_MIN] = [exp_rec[:,i].min() for i in range(N_STATES)]\n",
    "\n",
    "    newboundary = [C_POS_MAX, C_VEL_MAX, P_ANG_MAX, P_VEL_MAX,\n",
    "                   C_POS_MIN, C_VEL_MIN, P_ANG_MIN, P_VEL_MIN]\n",
    "    \n",
    "    return exp_rec, time_rec, newboundary"
   ]
  },
  {
   "cell_type": "code",
   "execution_count": 17,
   "metadata": {},
   "outputs": [],
   "source": [
    "total_serial_timesteps   = 0\n",
    "total_parallel_timesteps = 0"
   ]
  },
  {
   "cell_type": "code",
   "execution_count": 18,
   "metadata": {},
   "outputs": [
    {
     "name": "stdout",
     "output_type": "stream",
     "text": [
      "peak memory: 1256.57 MiB, increment: 1036.27 MiB\n",
      "Quantization TIME:  0.01 minutes\n"
     ]
    }
   ],
   "source": [
    "iteration = 0\n",
    "# my_dqn = D3QN()\n",
    "dqn = D3QN()\n",
    "\n",
    "# INITIALIZE BOUNDARY TO MAXIMUM VALUES\n",
    "init_node_boundary = [C_POS_ABS_MAX, C_VEL_ABS_MAX, P_ANG_ABS_MAX, P_VEL_ABS_MAX,\n",
    "                      C_POS_ABS_MIN, C_VEL_ABS_MIN, P_ANG_ABS_MIN, P_VEL_ABS_MIN]\n",
    "\n",
    "\n",
    "\n",
    "# CREATE STATE COMBINATIONS\n",
    "# ###############################################\n",
    "\n",
    "init_state_combinations = ndim_grid([C_POS_ABS_MIN, C_VEL_ABS_MIN, P_ANG_ABS_MIN, P_VEL_ABS_MIN],\n",
    "                                    [C_POS_ABS_MAX, C_VEL_ABS_MAX, P_ANG_ABS_MAX, P_VEL_ABS_MAX],\n",
    "                                    [HI_GRAIN , HI_GRAIN , HI_GRAIN , HI_GRAIN])\n",
    "\n",
    "\n",
    "\n",
    "# # GET Q-VALUES \n",
    "start = timeit.default_timer()\n",
    "%memit init_q_table = dqn.get_greedy_action(init_state_combinations).reshape(HI_GRAIN , HI_GRAIN , HI_GRAIN , HI_GRAIN).astype(np.intp)\n",
    "stop = timeit.default_timer()\n",
    "print(\"Quantization TIME: \", np.round((stop-start)/60,2), \"minutes\")\n",
    "    \n",
    "# SAVE QFILE\n",
    "# node_QFILE = './Q_NPY/' + RNDM_STRING + 'QFILE' + \".npy\"\n",
    "# np.save(node_QFILE, init_q_table)"
   ]
  },
  {
   "cell_type": "code",
   "execution_count": 19,
   "metadata": {},
   "outputs": [],
   "source": [
    "# ENVIRONMENT FOR CHECKING NN MODEL\n",
    "v_env = gym.make('CartPole-v0')\n",
    "v_env.seed(seed*2)\n",
    "\n",
    "# CREATE A POOL OF PROCESSES\n",
    "pool = mp.Pool(NO_OF_NODES)\n",
    "\n",
    "# SET INITIAL NODE BOUDNARIES FOR ALL NODES\n",
    "node_boundaries = [init_node_boundary] * NO_OF_NODES\n",
    "node_q_table = init_q_table"
   ]
  },
  {
   "cell_type": "code",
   "execution_count": 20,
   "metadata": {},
   "outputs": [
    {
     "name": "stdout",
     "output_type": "stream",
     "text": [
      "\n",
      "\n",
      "ITERATION # 0\n",
      "TOTAL EXPERIENCE GENERATED:   46519\n",
      "SMALLEST TIMESTEP: 9\n",
      "LARGEST  TIMESTEP: 200\n",
      "TOTAL SERIAL TIMESTEPS:   46519\n",
      "TOTAL PARALLEL TIMESTEPS: 200\n"
     ]
    },
    {
     "data": {
      "image/png": "[encoded data removed]",
      "text/plain": [
       "<Figure size 1080x216 with 1 Axes>"
      ]
     },
     "metadata": {},
     "output_type": "display_data"
    },
    {
     "name": "stdout",
     "output_type": "stream",
     "text": [
      "MEMORY COUNTER:  46519\n",
      "Training Neural Network for 50000 iterations @ LR =  0.001\n",
      "LOSS : 230.555\tLOSS : 177.566\tLOSS : 211.049\tLOSS : 218.911\tLOSS : 204.427\tLOSS : 212.055\tLOSS : 218.101\tLOSS : 203.198\tLOSS : 201.080\tLOSS : 201.203\tLOSS : 217.147\tLOSS : 202.137\tLOSS : 192.336\tLOSS : 190.442\tLOSS : 184.490\tLOSS : 171.785\tLOSS : 191.870\tLOSS : 184.613\tLOSS : 202.723\tLOSS : 181.940\t\n",
      "Validating... MEAN TIME:  200.0\n",
      "LOSS : 187.828\tLOSS : 179.034\tLOSS : 200.599\tLOSS : 191.514\tLOSS : 190.454\tLOSS : 189.936\tLOSS : 197.419\tLOSS : 185.646\tLOSS : 190.291\tLOSS : 194.343\tLOSS : 185.385\tLOSS : 191.709\tLOSS : 193.505\tLOSS : 191.597\tLOSS : 176.586\tLOSS : 190.752\tLOSS : 198.510\tLOSS : 190.144\tLOSS : 180.575\tLOSS : 188.477\t\n",
      "Validating... MEAN TIME:  192.195\n",
      "LOSS : 189.862\tLOSS : 178.032\tLOSS : 182.870\tLOSS : 186.963\tLOSS : 191.737\tLOSS : 185.948\tLOSS : 180.201\tLOSS : 178.550\tLOSS : 178.993\tLOSS : 199.103\tLOSS : 173.673\tLOSS : 173.483\tLOSS : 178.989\tLOSS : 168.942\tLOSS : 181.871\tLOSS : 181.049\tLOSS : 183.742\tLOSS : 183.570\tLOSS : 182.943\tLOSS : 186.981\t\n",
      "Validating... MEAN TIME:  183.79\n",
      "LOSS : 167.651\tLOSS : 174.451\tLOSS : 168.283\tLOSS : 182.217\tLOSS : 176.124\tLOSS : 173.244\tLOSS : 177.795\tLOSS : 180.407\tLOSS : 179.101\tLOSS : 170.603\tLOSS : 183.531\tLOSS : 175.338\tLOSS : 161.807\tLOSS : 182.552\tLOSS : 166.860\tLOSS : 184.310\tLOSS : 180.474\tLOSS : 179.706\tLOSS : 183.378\tLOSS : 180.627\t\n",
      "Validating... MEAN TIME:  158.835\n",
      "LOSS : 179.245\tLOSS : 172.768\tLOSS : 183.658\tLOSS : 178.081\tLOSS : 169.669\tLOSS : 170.709\tLOSS : 179.858\tLOSS : 170.352\tLOSS : 171.585\tLOSS : 174.023\tLOSS : 176.563\tLOSS : 176.534\tLOSS : 168.806\tLOSS : 186.353\tLOSS : 180.360\tLOSS : 178.195\tLOSS : 181.591\tLOSS : 169.079\tLOSS : 170.066\tLOSS : 179.618\t\n",
      "Validating... MEAN TIME:  160.805\n",
      "TRAINING TIME:0:00:55.874691\n"
     ]
    },
    {
     "data": {
      "image/png": "[encoded data removed]",
      "text/plain": [
       "<Figure size 1080x216 with 1 Axes>"
      ]
     },
     "metadata": {},
     "output_type": "display_data"
    },
    {
     "name": "stdout",
     "output_type": "stream",
     "text": [
      "peak memory: 1332.53 MiB, increment: 1042.45 MiB\n",
      "0 -max- [ 0.532  1.522  0.209  2.512]\n",
      "0 -min- [-1.368 -2.839 -0.209 -2.459]\n",
      "\n",
      "1 -max- [ 0.738  2.055  0.209  1.874]\n",
      "1 -min- [-0.916 -1.404 -0.208 -1.741]\n",
      "\n",
      "2 -max- [ 0.515  1.711  0.209  2.307]\n",
      "2 -min- [-1.319 -2.648 -0.209 -2.407]\n",
      "\n",
      "3 -max- [ 1.322  2.244  0.209  2.432]\n",
      "3 -min- [-1.215 -2.854 -0.209 -1.897]\n",
      "\n",
      "4 -max- [ 0.440  1.154  0.209  3.084]\n",
      "4 -min- [-1.429 -2.904 -0.209 -1.934]\n",
      "\n",
      "5 -max- [ 0.546  1.751  0.209  1.907]\n",
      "5 -min- [-1.360 -2.778 -0.209 -2.625]\n",
      "\n",
      "6 -max- [ 0.393  1.522  0.209  2.563]\n",
      "6 -min- [-1.681 -2.985 -0.209 -1.938]\n",
      "\n",
      "7 -max- [ 0.444  1.518  0.209  2.444]\n",
      "7 -min- [-1.780 -2.981 -0.209 -1.952]\n",
      "\n",
      "8 -max- [ 1.070  2.070  0.209  2.682]\n",
      "8 -min- [-0.821 -2.671 -0.207 -2.552]\n",
      "\n",
      "9 -max- [ 0.561  1.556  0.209  2.258]\n",
      "9 -min- [-1.358 -2.121 -0.209 -2.235]\n",
      "\n",
      "Quantization TIME:  0.01 minutes\n",
      "\n",
      "\n",
      "ITERATION # 1\n",
      "TOTAL EXPERIENCE GENERATED:   135895\n",
      "SMALLEST TIMESTEP: 10\n",
      "LARGEST  TIMESTEP: 200\n",
      "TOTAL SERIAL TIMESTEPS:   182414\n",
      "TOTAL PARALLEL TIMESTEPS: 400\n"
     ]
    },
    {
     "data": {
      "image/png": "[encoded data removed]",
      "text/plain": [
       "<Figure size 1080x216 with 1 Axes>"
      ]
     },
     "metadata": {},
     "output_type": "display_data"
    },
    {
     "name": "stdout",
     "output_type": "stream",
     "text": [
      "MEMORY COUNTER:  182414\n",
      "Training Neural Network for 50000 iterations @ LR =  0.001\n",
      "LOSS : 120.564\tLOSS : 107.348\tLOSS : 111.337\tLOSS : 105.150\tLOSS : 94.951\tLOSS : 106.854\tLOSS : 118.481\tLOSS : 111.919\tLOSS : 105.712\tLOSS : 104.728\tLOSS : 99.334\tLOSS : 103.060\tLOSS : 107.560\tLOSS : 97.542\tLOSS : 102.246\tLOSS : 106.229\tLOSS : 100.451\tLOSS : 111.922\tLOSS : 104.873\tLOSS : 103.516\t\n",
      "Validating... MEAN TIME:  197.99\n",
      "LOSS : 93.928\tLOSS : 94.289\tLOSS : 101.828\tLOSS : 101.699\tLOSS : 103.884\tLOSS : 94.828\tLOSS : 100.419\tLOSS : 94.017\tLOSS : 94.819\tLOSS : 110.801\tLOSS : 93.976\tLOSS : 100.991\tLOSS : 89.142\tLOSS : 92.585\tLOSS : 101.573\tLOSS : 101.680\tLOSS : 111.144\tLOSS : 106.162\tLOSS : 94.496\tLOSS : 94.885\t\n",
      "Validating... MEAN TIME:  196.355\n",
      "LOSS : 99.062\tLOSS : 101.819\tLOSS : 99.976\tLOSS : 97.277\tLOSS : 97.521\tLOSS : 108.304\tLOSS : 99.669\tLOSS : 94.144\tLOSS : 104.760\tLOSS : 97.805\tLOSS : 97.666\tLOSS : 106.633\tLOSS : 102.785\tLOSS : 96.944\tLOSS : 105.844\tLOSS : 107.620\tLOSS : 100.849\tLOSS : 89.981\tLOSS : 109.973\tLOSS : 101.955\t\n",
      "Validating... MEAN TIME:  199.955\n",
      "LOSS : 98.623\tLOSS : 108.595\tLOSS : 96.912\tLOSS : 113.756\tLOSS : 100.443\tLOSS : 95.386\tLOSS : 108.677\tLOSS : 98.484\tLOSS : 100.950\tLOSS : 110.110\tLOSS : 101.264\tLOSS : 100.090\tLOSS : 101.906\tLOSS : 97.852\tLOSS : 98.837\tLOSS : 99.158\tLOSS : 85.511\tLOSS : 95.231\tLOSS : 86.934\tLOSS : 94.758\t\n",
      "Validating... MEAN TIME:  199.915\n",
      "LOSS : 96.785\tLOSS : 97.083\tLOSS : 96.560\tLOSS : 104.616\tLOSS : 102.765\tLOSS : 102.185\tLOSS : 99.285\tLOSS : 104.088\tLOSS : 98.764\tLOSS : 97.202\tLOSS : 92.148\tLOSS : 99.081\tLOSS : 106.189\tLOSS : 94.942\tLOSS : 91.203\tLOSS : 100.152\tLOSS : 107.796\tLOSS : 96.153\tLOSS : 98.239\tLOSS : 100.624\t\n",
      "Validating... MEAN TIME:  196.1\n",
      "TRAINING TIME:0:01:03.241135\n"
     ]
    },
    {
     "data": {
      "image/png": "[encoded data removed]",
      "text/plain": [
       "<Figure size 1080x216 with 1 Axes>"
      ]
     },
     "metadata": {},
     "output_type": "display_data"
    },
    {
     "name": "stdout",
     "output_type": "stream",
     "text": [
      "peak memory: 1393.05 MiB, increment: 1035.35 MiB\n",
      "0 -max- [ 0.537  1.925  0.206  1.959]\n",
      "0 -min- [-2.399 -2.609 -0.209 -2.316]\n",
      "\n",
      "1 -max- [ 0.197  1.172  0.208  1.959]\n",
      "1 -min- [-2.399 -2.759 -0.209 -1.958]\n",
      "\n",
      "2 -max- [ 0.175  0.954  0.206  2.352]\n",
      "2 -min- [-2.400 -2.842 -0.209 -1.811]\n",
      "\n",
      "3 -max- [ 0.381  1.371  0.208  1.729]\n",
      "3 -min- [-2.400 -2.574 -0.209 -2.327]\n",
      "\n",
      "4 -max- [ 0.381  0.994  0.208  1.804]\n",
      "4 -min- [-2.400 -2.590 -0.209 -2.067]\n",
      "\n",
      "5 -max- [ 0.237  1.299  0.209  1.962]\n",
      "5 -min- [-2.400 -2.628 -0.209 -1.707]\n",
      "\n",
      "6 -max- [ 0.240  1.351  0.208  1.406]\n",
      "6 -min- [-2.399 -2.607 -0.209 -2.185]\n",
      "\n",
      "7 -max- [ 0.211  0.991  0.209  1.880]\n",
      "7 -min- [-2.400 -2.632 -0.209 -2.026]\n",
      "\n",
      "8 -max- [ 0.260  1.204  0.203  1.935]\n",
      "8 -min- [-2.400 -2.755 -0.209 -1.979]\n",
      "\n",
      "9 -max- [ 0.165  1.324  0.208  1.951]\n",
      "9 -min- [-2.398 -2.627 -0.209 -1.770]\n",
      "\n",
      "Quantization TIME:  0.01 minutes\n",
      "\n",
      "\n",
      "ITERATION # 2\n",
      "TOTAL EXPERIENCE GENERATED:   195470\n",
      "SMALLEST TIMESTEP: 62\n",
      "LARGEST  TIMESTEP: 200\n",
      "TOTAL SERIAL TIMESTEPS:   377884\n",
      "TOTAL PARALLEL TIMESTEPS: 600\n"
     ]
    },
    {
     "data": {
      "image/png": "[encoded data removed]",
      "text/plain": [
       "<Figure size 1080x216 with 1 Axes>"
      ]
     },
     "metadata": {},
     "output_type": "display_data"
    }
   ],
   "source": [
    "while iteration < MAX_NO_OF_ITERATIONS:\n",
    "\n",
    "    print(\"\\n\")\n",
    "    print(\"ITERATION #\", iteration)\n",
    "    tic = datetime.now()\n",
    "    \n",
    "    # MAP GYM ENVIRONMENT TO EACH PROCESS IN THE POOL\n",
    "    ##################################################################\n",
    "    q_table_list = [node_q_table]* NO_OF_NODES\n",
    "    iter_list = [iteration] * NO_OF_NODES\n",
    "    arg_list = [arg for arg in zip(range(NO_OF_NODES), node_boundaries, iter_list, q_table_list)]\n",
    "    result   = pool.starmap(mp_node_run, arg_list)\n",
    "    ##################################################################\n",
    "    \n",
    "    # GATHER RESULTS\n",
    "    ##################################################################\n",
    "    node_boundaries = np.array([item[2] for item in result])\n",
    "    node_time_rec   = np.array([item[1] for item in result])\n",
    "    node_exp        = np.array([item[0] for item in result])\n",
    "    \n",
    "    all_exp         = np.array([item for each_node_exp in node_exp \n",
    "                                    for episode_exp in each_node_exp \n",
    "                                    for item in episode_exp]).reshape(-1,N_STATES*2+2)\n",
    "    total_parallel_timesteps += node_time_rec.max()\n",
    "    total_serial_timesteps   += node_time_rec.sum()\n",
    "    EXP_GEN = node_time_rec.sum().astype(int)\n",
    "    \n",
    "    print(\"TOTAL EXPERIENCE GENERATED:   {:d}\".format(EXP_GEN.astype(int)))\n",
    "\n",
    "    print(\"SMALLEST TIMESTEP: {:d}\".format(node_time_rec.min().astype(int)))\n",
    "    print(\"LARGEST  TIMESTEP: {:d}\".format(node_time_rec.max().astype(int)))\n",
    "\n",
    "    print(\"TOTAL SERIAL TIMESTEPS:   {:d}\".format(total_serial_timesteps.astype(int)))\n",
    "    print(\"TOTAL PARALLEL TIMESTEPS: {:d}\".format(total_parallel_timesteps.astype(int)))\n",
    "    ##################################################################\n",
    "\n",
    "    # PLOT EXPERIENCES\n",
    "    ##################################################################\n",
    "    node_avg_time = node_time_rec.mean(axis=1)\n",
    "    node_std_time = node_time_rec.std(axis=1)\n",
    "    node_max_time = node_time_rec.max(axis=1)\n",
    "    node_min_time = node_time_rec.min(axis=1)\n",
    "\n",
    "    fig = plt.figure(figsize = (15,3))\n",
    "    ax2 = fig.add_subplot(1, 1, 1)\n",
    "    ax2.set_title(\"Q-table Performance\")\n",
    "    ax2.bar(range(NO_OF_NODES) , node_max_time, alpha = 0.1, color = 'r', edgecolor = 'black', capsize=7 )\n",
    "    ax2.bar(range(NO_OF_NODES) , node_avg_time, alpha = 0.5, color = 'g', edgecolor = 'black', capsize=7 )\n",
    "    ax2.bar(range(NO_OF_NODES) , node_min_time, alpha = 0.4, color = 'r', edgecolor = 'black', capsize=7 )\n",
    "\n",
    "    ax2.plot(np.ones_like(node_avg_time)*200, 'g--')\n",
    "    ax2.set_ylabel('Mean Node Lifetime',color = 'g')\n",
    "    ax2.set_ylim(0,TIMESTEP_LIMIT+10)\n",
    "    fig.tight_layout()\n",
    "    ax2.grid()\n",
    "    plt.show()\n",
    "    ##################################################################\n",
    "    \n",
    "    if node_avg_time[node_avg_time >= 195].shape[0] > NO_OF_NODES/2:\n",
    "        final_result = \"SUCCESS\"\n",
    "        break\n",
    "\n",
    "    # SEGREGATE AND STORE EXPERIENCES\n",
    "    ##################################################################\n",
    "    dqn.memory = np.insert(dqn.memory,0,all_exp,0)\n",
    "    dqn.memory = dqn.memory[:MIN_MEMORY_CAP,:]\n",
    "    dqn.memory_counter += all_exp.shape[0]\n",
    "#     good_mem = all_exp[all_exp[:,N_STATES+1] == 1]    \n",
    "#     bad_mem  = all_exp[all_exp[:,N_STATES+1] < 1]\n",
    "\n",
    "\n",
    "#     dqn.good_memory = np.insert(dqn.good_memory, 0, good_mem , 0)\n",
    "#     dqn.good_memory_counter += good_mem.shape[0]\n",
    "\n",
    "#     dqn.bad_memory  = np.insert(dqn.bad_memory, 0, bad_mem , 0)\n",
    "#     dqn.bad_memory_counter += bad_mem.shape[0]\n",
    "\n",
    "#     dqn.good_memory = dqn.good_memory[:MIN_MEMORY_CAP,:]\n",
    "#     dqn.bad_memory = dqn.bad_memory[:MIN_MEMORY_CAP,:]\n",
    "\n",
    "    NN_ITERATIONS = MAX_NN_ITERATIONS\n",
    "    print(\"MEMORY COUNTER: \", min(MIN_MEMORY_CAP, dqn.memory_counter))\n",
    "\n",
    "#     print(\"GOOD MEMORY COUNTER: \", min(MIN_MEMORY_CAP, dqn.good_memory_counter))\n",
    "#     print(\"BAD MEMORY COUNTER: \", min(MIN_MEMORY_CAP, dqn.bad_memory_counter))\n",
    "    ##################################################################\n",
    "\n",
    "    # LEARN\n",
    "    ##################################################################\n",
    "    print(\"Training Neural Network for\", NN_ITERATIONS, \"iterations\", \"@ LR = \", NN_LR)\n",
    "    tic=datetime.now()\n",
    "    nn_level_up_metric = 0\n",
    "    for nn_iter in range(NN_ITERATIONS):\n",
    "        dqn.learn()\n",
    "        #validate by running for TIMESTEP_LIMIT iterations\n",
    "        if(nn_iter%int(NN_ITERATIONS/5) == int(NN_ITERATIONS/5)-1):\n",
    "            print(\"\\nValidating... \",end=\"\")\n",
    "            time_rec = []\n",
    "            for i_episode in range(TIMESTEP_LIMIT):\n",
    "                time_step = 0\n",
    "                s = v_env.reset()\n",
    "\n",
    "                while True:\n",
    "                    time_step += 1 \n",
    "                    a = dqn.choose_greedy_action(s)\n",
    "                    s_, r, done, info = v_env.step(a)\n",
    "\n",
    "                    if done:\n",
    "                        break\n",
    "                    s = s_\n",
    "                time_rec = np.append(time_rec, time_step)\n",
    "            mean_time = time_rec.mean()\n",
    "            print(\"MEAN TIME: \", mean_time)\n",
    "            if mean_time >= nn_level_up_metric:\n",
    "                nn_level_up_metric = mean_time\n",
    "                nn_level_up_metric = clamp(0, nn_level_up_metric, 195)\n",
    "                torch.save(dqn.eval_net.state_dict(), MODEL_FILENAME)\n",
    "\n",
    "    print(\"TRAINING TIME:{}\".format(datetime.now()-tic))\n",
    "    ##################################################################\n",
    "\n",
    "    # CHECK PERFORMANCE OF THE BEST MODEL\n",
    "    ##################################################################\n",
    "    best_dqn = D3QN()\n",
    "    best_dqn.eval_net.load_state_dict(torch.load(MODEL_FILENAME))\n",
    "    best_dqn.eval_net.eval()\n",
    "\n",
    "    time_rec = []\n",
    "    for i_episode in range(TIMESTEP_LIMIT):\n",
    "        time_step = 0\n",
    "        s = env.reset()\n",
    "\n",
    "        while True:\n",
    "    #         env.render()\n",
    "            time_step += 1 \n",
    "            a = best_dqn.choose_greedy_action(s)\n",
    "            s_, r, done, info = env.step(a)\n",
    "            if done:\n",
    "                break\n",
    "            s = s_\n",
    "        time_rec = np.append(time_rec, time_step)\n",
    "\n",
    "    fig = plt.figure(figsize = (15,3))\n",
    "    ax2 = fig.add_subplot(1, 1, 1)\n",
    "    data = time_rec\n",
    "    ax2.plot(data, color = 'm')\n",
    "    ax2.plot(np.ones_like(data)*200, 'm--')\n",
    "    ax2.set_title('Neural Network Performance using BEST MODEL ')\n",
    "    ax2.set_ylabel('Time Steps',color = 'm')\n",
    "    ax2.set_ylim(0,TIMESTEP_LIMIT+10)\n",
    "    fig.tight_layout()\n",
    "    ax2.grid()\n",
    "    plt.show()\n",
    "    \n",
    "    \n",
    "        \n",
    "    ##################################################################\n",
    "    \n",
    "    # CREATE ONE LARGE Q-TABLES FROM WHICH THE NODES STRIP\n",
    "    ##################################################################\n",
    "        \n",
    "#     node_state_combinations = ndim_grid([C_POS_ABS_MIN, C_VEL_ABS_MIN, P_ANG_ABS_MIN, P_VEL_ABS_MIN, LENGTH_ABS_MIN ],\n",
    "#                                         [C_POS_ABS_MAX, C_VEL_ABS_MAX, P_ANG_ABS_MAX, P_VEL_ABS_MAX, LENGTH_ABS_MAX ],\n",
    "#                                         [HI_GRAIN , HI_GRAIN , HI_GRAIN , HI_GRAIN , LO_GRAIN * NO_OF_NODES  ])\n",
    "    \n",
    "    start = timeit.default_timer()\n",
    "    # GET Q-VALUES \n",
    "    %memit node_q_table = best_dqn.get_greedy_action(init_state_combinations).reshape(HI_GRAIN , HI_GRAIN , HI_GRAIN , HI_GRAIN).astype(np.intp)\n",
    "\n",
    "    # SAVE QFILE\n",
    "#     np.save(node_QFILE, node_q_table)\n",
    "    stop = timeit.default_timer()\n",
    "\n",
    "#     ##################################################################\n",
    "    \n",
    "#     # CREATE INDIVIDUALIZED Q-TABLES FOR THE NODES\n",
    "#     ##################################################################\n",
    "    \n",
    "    for node_id in range(NO_OF_NODES):\n",
    "# #         # SET STATE VALUE BORDERS AS REQUESTED BY THE NODE\n",
    "# #         ###############################################\n",
    "#         [C_POS_MAX, C_VEL_MAX, P_ANG_MAX, P_VEL_MAX, LENGTH_MAX,\n",
    "#          C_POS_MIN, C_VEL_MIN, P_ANG_MIN, P_VEL_MIN, LENGTH_MIN]  = node_boundaries[node_id]\n",
    "# #         ###############################################\n",
    "        print(node_id,'-max-',node_boundaries[node_id][:N_STATES])\n",
    "        print(node_id,'-min-',node_boundaries[node_id][N_STATES:])\n",
    "        print(\"\")\n",
    "        \n",
    "# #         node_boundaries[node_id] = [C_POS_ABS_MAX, C_VEL_ABS_MAX, P_ANG_ABS_MAX, P_VEL_ABS_MAX, LENGTH_MAX,\n",
    "# #                                     C_POS_ABS_MIN, C_VEL_ABS_MIN, P_ANG_ABS_MIN, P_VEL_ABS_MIN, LENGTH_MIN]\n",
    "# #         # CREATE STATE COMBINATIONS\n",
    "# #         ###############################################\n",
    "\n",
    "#     node_state_combinations = ndim_grid([C_POS_ABS_MIN, C_VEL_ABS_MIN, P_ANG_ABS_MIN, P_VEL_ABS_MIN, LENGTH_ABS_MIN ],\n",
    "#                                         [C_POS_ABS_MAX, C_VEL_ABS_MAX, P_ANG_ABS_MAX, P_VEL_ABS_MAX, LENGTH_ABS_MAX ],\n",
    "#                                         [HI_GRAIN , HI_GRAIN , HI_GRAIN , HI_GRAIN , LO_GRAIN   ])\n",
    "#         ###############################################\n",
    "#     start = timeit.default_timer()\n",
    "#     # GET Q-VALUES \n",
    "#     %memit node_q_table = best_dqn.get_qvals(node_state_combinations).reshape(HI_GRAIN , HI_GRAIN , HI_GRAIN , HI_GRAIN , LO_GRAIN , -1).astype(np.float16)\n",
    "\n",
    "#     # SAVE QFILE\n",
    "#     np.save(node_QFILE, node_q_table)\n",
    "#         #############################################################################################################################################\n",
    "#     stop = timeit.default_timer()\n",
    "    print(\"Quantization TIME: \", np.round((stop-start)/60,2), \"minutes\")\n",
    "    iteration += 1\n",
    "pool.close()\n",
    "pool.join()"
   ]
  },
  {
   "cell_type": "code",
   "execution_count": 21,
   "metadata": {},
   "outputs": [
    {
     "name": "stdout",
     "output_type": "stream",
     "text": [
      "Total Parallel Timesteps :  600.0\n",
      "Total Serial Timesteps   :  377884.0\n",
      "Speed-up                 :  629.81\n"
     ]
    }
   ],
   "source": [
    "print(\"Total Parallel Timesteps : \", total_parallel_timesteps)\n",
    "print(\"Total Serial Timesteps   : \", total_serial_timesteps)\n",
    "print(\"Speed-up                 :  {:6.2f}\".format(total_serial_timesteps/total_parallel_timesteps))"
   ]
  },
  {
   "cell_type": "code",
   "execution_count": 22,
   "metadata": {},
   "outputs": [],
   "source": [
    "pool.close()\n",
    "pool.join()\n",
    "if iteration == MAX_NO_OF_ITERATIONS:\n",
    "    final_result = \"FAILURE\""
   ]
  },
  {
   "cell_type": "code",
   "execution_count": 23,
   "metadata": {},
   "outputs": [
    {
     "name": "stdout",
     "output_type": "stream",
     "text": [
      "  9086 SUCCESS  62   2     600     377884     629.81\n"
     ]
    }
   ],
   "source": [
    "print(\"{:6d} {} {:3d} {:3d} {:7d} {:10d} {:10.2f}\".format(seed, final_result, int(node_min_time.min()), int(iteration), int(total_parallel_timesteps), int(total_serial_timesteps), total_serial_timesteps/total_parallel_timesteps))"
   ]
  },
  {
   "cell_type": "code",
   "execution_count": 28,
   "metadata": {},
   "outputs": [
    {
     "data": {
      "text/plain": [
       "array([ 200.000,  200.000,  200.000,  200.000,  200.000,  200.000,\n",
       "        200.000,  200.000,  200.000,  200.000])"
      ]
     },
     "execution_count": 28,
     "metadata": {},
     "output_type": "execute_result"
    }
   ],
   "source": [
    "node_max_time"
   ]
  },
  {
   "cell_type": "code",
   "execution_count": 31,
   "metadata": {},
   "outputs": [
    {
     "data": {
      "text/plain": [
       "array([[ 2.366,  2.423,  0.204,  1.869, -2.399, -2.424, -0.208, -1.910],\n",
       "       [ 2.368,  2.384,  0.197,  1.831, -2.395, -2.428, -0.205, -1.258],\n",
       "       [ 2.399,  2.586,  0.208,  1.652, -2.397, -2.430, -0.205, -1.925],\n",
       "       [ 2.386,  2.603,  0.205,  1.613, -2.399, -2.425, -0.208, -1.785],\n",
       "       [ 2.381,  2.581,  0.208,  1.637, -2.396, -2.386, -0.207, -1.238],\n",
       "       [ 2.390,  2.425,  0.201,  1.571, -2.397, -2.418, -0.207, -1.543],\n",
       "       [ 2.377,  2.389,  0.208,  1.553, -2.395, -2.428, -0.190, -1.895],\n",
       "       [ 2.367,  2.601,  0.206,  1.882, -2.399, -2.366, -0.191, -1.496],\n",
       "       [ 1.941,  2.051,  0.206,  1.826, -2.400, -2.441, -0.208, -1.791],\n",
       "       [ 1.183,  1.325,  0.206,  2.045, -2.397, -2.432, -0.208, -1.774]])"
      ]
     },
     "execution_count": 31,
     "metadata": {},
     "output_type": "execute_result"
    }
   ],
   "source": [
    "node_boundaries"
   ]
  },
  {
   "cell_type": "code",
   "execution_count": null,
   "metadata": {},
   "outputs": [],
   "source": [
    "node_boundaries[0]"
   ]
  }
 ],
 "metadata": {
  "kernelspec": {
   "display_name": "Python 3",
   "language": "python",
   "name": "python3"
  },
  "language_info": {
   "codemirror_mode": {
    "name": "ipython",
    "version": 3
   },
   "file_extension": ".py",
   "mimetype": "text/x-python",
   "name": "python",
   "nbconvert_exporter": "python",
   "pygments_lexer": "ipython3",
   "version": "3.6.3"
  }
 },
 "nbformat": 4,
 "nbformat_minor": 2
}
